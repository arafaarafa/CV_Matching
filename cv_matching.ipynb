{
  "nbformat": 4,
  "nbformat_minor": 0,
  "metadata": {
    "colab": {
      "name": "cv_matching.ipynb",
      "provenance": [],
      "collapsed_sections": []
    },
    "kernelspec": {
      "name": "python3",
      "display_name": "Python 3"
    },
    "language_info": {
      "name": "python"
    }
  },
  "cells": [
    {
      "cell_type": "code",
      "metadata": {
        "id": "IAAZH03YcN6e"
      },
      "source": [
        "!pip install PyPDF2 textract \n",
        "!pip install -U pip setuptools wheel\n",
        "!pip install -U spacy\n",
        "!pip install jsonlines\n",
        "\n",
        "import spacy.cli\n",
        "spacy.cli.download(\"en_core_web_sm\")"
      ],
      "execution_count": null,
      "outputs": []
    },
    {
      "cell_type": "code",
      "metadata": {
        "id": "Ytpulzl2QMRC"
      },
      "source": [
        "import textract\n",
        "import PyPDF2\n",
        "\n",
        "def extract_text_from_pdf(file):\n",
        "    '''Opens and reads in a PDF file from path'''\n",
        "    \n",
        "    fileReader = PyPDF2.PdfFileReader(open(file,'rb'))\n",
        "    page_count = fileReader.getNumPages()\n",
        "    text = [fileReader.getPage(i).extractText() for i in range(page_count)]\n",
        "    \n",
        "    return str(text).replace(\"\\\\n\", \"\")\n",
        "\n",
        "def extract_text_from_word(filepath):\n",
        "    '''Opens en reads in a .doc or .docx file from path'''\n",
        "    \n",
        "    txt = textract.process(filepath).decode('utf-8')\n",
        "    \n",
        "    return txt.replace('\\n', ' ').replace('\\t', ' ')"
      ],
      "execution_count": 56,
      "outputs": []
    },
    {
      "cell_type": "code",
      "metadata": {
        "id": "7Wh2UV9PSfH6"
      },
      "source": [
        "import en_core_web_sm\n",
        "import os\n",
        "\n",
        "# Load pre-trained Dutch language model\n",
        "nlp = en_core_web_sm.load()\n",
        "\n",
        "# File Extension. set as 'pdf' or as 'doc(x)'\n",
        "extension = 'pdf'\n",
        "\n",
        "def create_tokenized_texts_list(extension):\n",
        "    '''read all cv files \"pdf\" or \"docx\" then tokenized them '''\n",
        "\n",
        "    resume_texts, resume_names = [], [] #two variables to store the text of each file and its name\n",
        "    \n",
        "    # Loop over the contents of the directory containing the resumes, filtering by .pdf or .doc(x)\n",
        "    for resume in list(filter(lambda x: extension in x, os.listdir('/content/drive/MyDrive/CV_matching/CV'))):\n",
        "        if extension == 'pdf':\n",
        "            # Read in every resume with pdf extension in the directory\n",
        "            resume_texts.append(nlp(extract_text_from_pdf('/content/drive/MyDrive/CV_matching/CV/' + resume)))\n",
        "        elif 'doc' in extension:\n",
        "            # Read in every resume with .doc or .docx extension in the directory\n",
        "            resume_texts.append(nlp(extract_text_from_word('/content/drive/MyDrive/CV_matching/CV/' + resume)))\n",
        "            \n",
        "        resume_names.append(resume.split('_')[0].capitalize())\n",
        "        \n",
        "    return resume_texts, resume_names #return two lists"
      ],
      "execution_count": 57,
      "outputs": []
    },
    {
      "cell_type": "code",
      "metadata": {
        "id": "qvi0zDgeXSls"
      },
      "source": [
        "from spacy.pipeline import EntityRuler\n",
        "from spacy import displacy\n",
        "import jsonlines\n",
        "\n",
        "# Create list store patterns to add it to new entity ruler \n",
        "with jsonlines.open(\"/content/drive/MyDrive/CV_matching/data/skill_patterns.jsonl\") as f:\n",
        "    pattern = [line for line in f.iter()]\n",
        "\n",
        "# create list has just labels of all skills will use it in \"\"\"visualize_entity_ruler(entity_list, doc) function \"\"\" to visualize extracted skills\n",
        "with jsonlines.open(\"/content/drive/MyDrive/CV_matching/data/skill_patterns.jsonl\") as f:\n",
        "    created_entities = [line['label'].upper() for line in f.iter()]\n",
        "\n",
        "\n",
        "#add new entity ruler to nlp pipeline\n",
        "def add_newruler_to_pipeline():\n",
        "    ruler = nlp.add_pipe(\"entity_ruler\", after='parser')\n",
        "    ruler.add_patterns(pattern)\n",
        "    #print(nlp.pipeline)\n",
        "    \n",
        "#visualize the result of nlp model with just all available skills\n",
        "def visualize_entity_ruler(entity_list, doc):\n",
        "    '''Visualize the Skill entities of a doc'''\n",
        "    colors = {\"ORG\": \"linear-gradient(90deg, #aa9cfc, #fc9ce7)\"}\n",
        "    options = {\"ents\": entity_list , \"colors\": colors}\n",
        "    displacy.render(doc, style='ent',options =options , jupyter=True)\n",
        "\n",
        "\n",
        "add_newruler_to_pipeline()#call function and add new ruler\n",
        "\n",
        "doc,names = create_tokenized_texts_list(extension) # tokeniz the all CVs in the folder\n",
        "\n",
        "visualize_entity_ruler(created_entities, doc)#call function and show visualization"
      ],
      "execution_count": null,
      "outputs": []
    },
    {
      "cell_type": "code",
      "metadata": {
        "colab": {
          "base_uri": "https://localhost:8080/"
        },
        "id": "eyS4r8SMDKJn",
        "outputId": "1e04df47-c961-4e3d-ccf4-bd2e2805a78e"
      },
      "source": [
        "\n",
        "\n",
        "def create_skill_set(doc):\n",
        "    '''Create a set of the extracted skill entities of a doc'''\n",
        "    \n",
        "    return set([ent.label_.upper()[6:] for ent in doc.ents if 'skill' in ent.label_.lower()])\n",
        "\n",
        "\n",
        "\n",
        "def create_skillset_dict(resume_names, resume_texts):\n",
        "    '''Create a dictionary containing a set of the extracted skills. Name is key, matching skillset is value'''\n",
        "    skillsets = [create_skill_set(resume_text) for resume_text in resume_texts]\n",
        "    return dict(zip(resume_names, skillsets))\n",
        "\n",
        "    \n",
        "def required_skills_cv(extension):\n",
        "    resume_texts, resume_names = [], []\n",
        "    \n",
        "    # Loop over the contents of the directory containing the resumes, filtering by .pdf or .doc(x)\n",
        "    for resume in list(filter(lambda x: extension in x, os.listdir('/content/drive/MyDrive/CV_matching/required_skills'))):\n",
        "        if extension == 'pdf':\n",
        "            # Read in every resume with pdf extension in the directory\n",
        "            resume_texts.append(nlp(extract_text_from_pdf('/content/drive/MyDrive/CV_matching/required_skills/' + resume)))\n",
        "        elif 'doc' in extension:\n",
        "            # Read in every resume with .doc or .docx extension in the directory\n",
        "            resume_texts.append(nlp(extract_text_from_word('/content/drive/MyDrive/CV_matching/required_skills/' + resume)))\n",
        "            \n",
        "        resume_names.append(resume.split('_')[0].capitalize())\n",
        "        \n",
        "    return resume_texts, resume_names\n",
        "\n",
        "def match_skills(vacature_set, cv_set, resume_name):\n",
        "    '''Get intersection of resume skills and job offer skills and return match percentage'''\n",
        "    \n",
        "    if len(vacature_set) < 1:\n",
        "        print('could not extract skills from job offer text')   \n",
        "    else:\n",
        "        pct_match = round(len(vacature_set.intersection(cv_set[resume_name])) / len(vacature_set) * 100, 0)\n",
        "        print(resume_name + \" has a {}% skill match on this job offer\".format(pct_match))\n",
        "        print('Required skills: {} '.format(vacature_set))\n",
        "        print('Matched skills: {} \\n'.format(vacature_set.intersection(skillset_dict[resume_name])))\n",
        "        \n",
        "        return (resume_name, pct_match)\n",
        "\n",
        "\n",
        "resume_texts, resume_names = create_tokenized_texts_list(extension)\n",
        "skillset_dict = create_skillset_dict(resume_names, resume_texts)\n",
        "\n",
        "# example of job offer text (string). Can input your own.\n",
        "vacature_text,name_cv = required_skills_cv(extension)\n",
        "\n",
        "# Create a set of the skills extracted from the job offer text\n",
        "vacature_skillset = create_skill_set(vacature_text[0])\n",
        "\n",
        "# Create a list with tuple pairs containing the names of the candidates and their match percentage\n",
        "match_pairs = [match_skills(vacature_skillset, skillset_dict, name) for name in skillset_dict.keys()]"
      ],
      "execution_count": 63,
      "outputs": [
        {
          "output_type": "stream",
          "text": [
            "Arafa arafa - cv.pdf has a 21.0% skill match on this job offer\n",
            "Required skills: {'RECOMMENDER-SYSTEM', 'COMPUTER-SCIENCE', 'ARTIFICIAL-INTELLIGENCE', 'CERTIFICATE', 'KERAS', 'TENSORFLOW', 'BUSINESS', 'LANGUAGES', 'AZURE', 'TIME-SERIES', 'ENGINEERING', 'PYTORCH', 'GITHUB', 'AWS', 'DATA-SCIENCE', 'SQL', 'PYTHON', 'COMPUTER-VISION', 'DEEP-LEARNING', 'TABLEAU', 'MACHINE-LEARNING', 'ANALYTICS', 'DATA-ANALYSIS', 'POWERBI'} \n",
            "Matched skills: {'GITHUB', 'COMPUTER-SCIENCE', 'LANGUAGES', 'PYTHON', 'COMPUTER-VISION'} \n",
            "\n",
            "Sarah has a 100.0% skill match on this job offer\n",
            "Required skills: {'RECOMMENDER-SYSTEM', 'COMPUTER-SCIENCE', 'ARTIFICIAL-INTELLIGENCE', 'CERTIFICATE', 'KERAS', 'TENSORFLOW', 'BUSINESS', 'LANGUAGES', 'AZURE', 'TIME-SERIES', 'ENGINEERING', 'PYTORCH', 'GITHUB', 'AWS', 'DATA-SCIENCE', 'SQL', 'PYTHON', 'COMPUTER-VISION', 'DEEP-LEARNING', 'TABLEAU', 'MACHINE-LEARNING', 'ANALYTICS', 'DATA-ANALYSIS', 'POWERBI'} \n",
            "Matched skills: {'RECOMMENDER-SYSTEM', 'COMPUTER-SCIENCE', 'ARTIFICIAL-INTELLIGENCE', 'CERTIFICATE', 'KERAS', 'TENSORFLOW', 'BUSINESS', 'LANGUAGES', 'ANALYTICS', 'AZURE', 'ENGINEERING', 'PYTORCH', 'GITHUB', 'AWS', 'DATA-SCIENCE', 'SQL', 'PYTHON', 'COMPUTER-VISION', 'DEEP-LEARNING', 'TABLEAU', 'MACHINE-LEARNING', 'TIME-SERIES', 'DATA-ANALYSIS', 'POWERBI'} \n",
            "\n"
          ],
          "name": "stdout"
        }
      ]
    },
    {
      "cell_type": "code",
      "metadata": {
        "id": "ia0fAEZRkPql",
        "colab": {
          "base_uri": "https://localhost:8080/",
          "height": 523
        },
        "outputId": "20f0514a-82ea-4873-e8ed-9e6e025b507b"
      },
      "source": [
        "import seaborn as sns\n",
        "import matplotlib.pyplot as plt\n",
        "\n",
        "match_pairs.sort(key=lambda tup: tup[1], reverse=True)\n",
        "\n",
        "# Unpack tuples\n",
        "names, pct = zip(*match_pairs)\n",
        "\n",
        "# Plotting\n",
        "sns.set_theme(style='darkgrid')\n",
        "\n",
        "fig, ax = plt.subplots(figsize=(12,8))\n",
        "ax.set_title('Job offer match with candidates', fontsize=20)\n",
        "ax.set(xlabel='Candidates', ylabel='% Match')\n",
        "ax.set(ylim=(0, 100))\n",
        "\n",
        "\n",
        "sns.set(font_scale=1.5)\n",
        "sns.barplot(x=list(names), y=list(pct), color='b')\n",
        "\n",
        "plt.show()"
      ],
      "execution_count": 64,
      "outputs": [
        {
          "output_type": "display_data",
          "data": {
            "image/png": "[encoded data removed]",
            "text/plain": [
              "<Figure size 864x576 with 1 Axes>"
            ]
          },
          "metadata": {
            "tags": []
          }
        }
      ]
    }
  ]
}